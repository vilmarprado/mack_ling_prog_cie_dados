{
  "nbformat": 4,
  "nbformat_minor": 0,
  "metadata": {
    "colab": {
      "provenance": [],
      "authorship_tag": "ABX9TyOJ8GIGEgTj1dBBg3R2+Zhe",
      "include_colab_link": true
    },
    "kernelspec": {
      "name": "python3",
      "display_name": "Python 3"
    },
    "language_info": {
      "name": "python"
    }
  },
  "cells": [
    {
      "cell_type": "markdown",
      "metadata": {
        "id": "view-in-github",
        "colab_type": "text"
      },
      "source": [
        "<a href=\"https://colab.research.google.com/github/vilmarprado/mack_ling_prog_cie_dados/blob/main/fuso_horario.ipynb\" target=\"_parent\"><img src=\"https://colab.research.google.com/assets/colab-badge.svg\" alt=\"Open In Colab\"/></a>"
      ]
    },
    {
      "cell_type": "code",
      "source": [
        "# acessado em https://www.alura.com.br/artigos/lidando-com-datas-e-horarios-no-python\n",
        "from datetime import datetime, date, time\n",
        "from datetime import datetime, timezone, timedelta\n",
        "\n",
        "data_e_hora_atuais = datetime.now()\n",
        "fuso_horario = timezone(timedelta(hours=-3))\n",
        "hora_sp = data_e_hora_atuais.astimezone(fuso_horario)\n",
        "print(fuso_horario, hora_sp)\n",
        "diferenca = timedelta(hours=-3)\n",
        "print(diferenca)"
      ],
      "metadata": {
        "id": "T8PVJKNeTOoA"
      },
      "execution_count": 16,
      "outputs": []
    },
    {
      "cell_type": "code",
      "source": [
        "import pandas as pd"
      ],
      "metadata": {
        "id": "mhaj9UHIDm9S"
      },
      "execution_count": 2,
      "outputs": []
    },
    {
      "cell_type": "code",
      "execution_count": 3,
      "metadata": {
        "id": "EPYjgWmo2h0K"
      },
      "outputs": [],
      "source": [
        "b = [ 1, 2, 3]\n",
        "b1 = len(b)\n"
      ]
    },
    {
      "cell_type": "code",
      "source": [
        "print(b, b1)"
      ],
      "metadata": {
        "colab": {
          "base_uri": "https://localhost:8080/"
        },
        "id": "_msMFnq72s1H",
        "outputId": "97689e43-d0b0-4d97-f1b5-1f4f62596028"
      },
      "execution_count": 4,
      "outputs": [
        {
          "output_type": "stream",
          "name": "stdout",
          "text": [
            "[1, 2, 3] 3\n"
          ]
        }
      ]
    },
    {
      "cell_type": "code",
      "source": [
        "a = b\n",
        "a1 = b1\n",
        "print(a, b, a1, b1)\n",
        "c=[]\n",
        "c1 = 0\n",
        "print(c,c1)\n",
        "c=b\n",
        "c1=b1\n",
        "print(a,b,c, a1, b1,c1)\n"
      ],
      "metadata": {
        "colab": {
          "base_uri": "https://localhost:8080/"
        },
        "id": "j7wV20BIbA1x",
        "outputId": "05e3a1b3-df8d-4333-87bd-a23f6d182500"
      },
      "execution_count": 5,
      "outputs": [
        {
          "output_type": "stream",
          "name": "stdout",
          "text": [
            "[1, 2, 3] [1, 2, 3] 3 3\n",
            "[] 0\n",
            "[1, 2, 3] [1, 2, 3] [1, 2, 3] 3 3 3\n"
          ]
        }
      ]
    },
    {
      "cell_type": "code",
      "source": [
        "b.append(4)\n",
        "b1= b1+1\n",
        "print (a, b, c,a1,b1,c1)"
      ],
      "metadata": {
        "colab": {
          "base_uri": "https://localhost:8080/"
        },
        "id": "D-xPwVrcbYBE",
        "outputId": "464bd89b-8d42-44d2-9e3c-c7aa2cdb02e7"
      },
      "execution_count": 7,
      "outputs": [
        {
          "output_type": "stream",
          "name": "stdout",
          "text": [
            "[1, 2, 3, 4, 4] [1, 2, 3, 4, 4] [1, 2, 3, 4, 4] 3 5 3\n"
          ]
        }
      ]
    },
    {
      "cell_type": "code",
      "source": [
        "d = list(b)\n",
        "print(b,d)"
      ],
      "metadata": {
        "colab": {
          "base_uri": "https://localhost:8080/"
        },
        "id": "qQqW2nQuIPIj",
        "outputId": "66cb1be6-7340-4500-efd9-10f63705419b"
      },
      "execution_count": 8,
      "outputs": [
        {
          "output_type": "stream",
          "name": "stdout",
          "text": [
            "[1, 2, 3, 4, 4] [1, 2, 3, 4, 4]\n"
          ]
        }
      ]
    },
    {
      "cell_type": "code",
      "source": [
        "b.append(6)\n",
        "print(a,b,c,d)"
      ],
      "metadata": {
        "colab": {
          "base_uri": "https://localhost:8080/"
        },
        "id": "8-qPsJAAIaYZ",
        "outputId": "ff20035d-1b55-4c1c-a198-cba1f0bfc060"
      },
      "execution_count": 9,
      "outputs": [
        {
          "output_type": "stream",
          "name": "stdout",
          "text": [
            "[1, 2, 3, 4, 4, 6] [1, 2, 3, 4, 4, 6] [1, 2, 3, 4, 4, 6] [1, 2, 3, 4, 4]\n"
          ]
        }
      ]
    },
    {
      "cell_type": "code",
      "source": [
        "lista =  ['a','b','c','d','e','f','g']\n",
        "lista"
      ],
      "metadata": {
        "colab": {
          "base_uri": "https://localhost:8080/"
        },
        "id": "4qtUYPhWKMST",
        "outputId": "fec2e1ab-46b1-4b69-b508-f4fbf1728c51"
      },
      "execution_count": 12,
      "outputs": [
        {
          "output_type": "execute_result",
          "data": {
            "text/plain": [
              "['a', 'b', 'c', 'd', 'e', 'f', 'g']"
            ]
          },
          "metadata": {},
          "execution_count": 12
        }
      ]
    },
    {
      "cell_type": "code",
      "source": [
        "lista[2:5]"
      ],
      "metadata": {
        "colab": {
          "base_uri": "https://localhost:8080/"
        },
        "id": "6j23yOVaKg__",
        "outputId": "3461fc0d-7195-49b0-f670-bd64a8bf24e6"
      },
      "execution_count": 15,
      "outputs": [
        {
          "output_type": "execute_result",
          "data": {
            "text/plain": [
              "['c', 'd', 'e']"
            ]
          },
          "metadata": {},
          "execution_count": 15
        }
      ]
    },
    {
      "cell_type": "code",
      "source": [
        "from tempfile import template\n",
        "template = \"{0:.2f} {1:s} are worth US${2:d}\"\n",
        "template.format(88.46,\"Argentine Pesos\",1)"
      ],
      "metadata": {
        "colab": {
          "base_uri": "https://localhost:8080/",
          "height": 35
        },
        "id": "nRT8NX77Thyy",
        "outputId": "2eee62b8-ac7b-4096-b264-f3065d11c90c"
      },
      "execution_count": 54,
      "outputs": [
        {
          "output_type": "execute_result",
          "data": {
            "text/plain": [
              "'88.46 Argentine Pesos sre worth US$1'"
            ],
            "application/vnd.google.colaboratory.intrinsic+json": {
              "type": "string"
            }
          },
          "metadata": {},
          "execution_count": 54
        }
      ]
    },
    {
      "cell_type": "code",
      "source": [
        "amount = 10\n",
        "rate=88.46\n",
        "currency = \"Pesos\"\n",
        "result = f\"{amount} {currency} is worth US${amount/rate}\"\n",
        "print( result)"
      ],
      "metadata": {
        "colab": {
          "base_uri": "https://localhost:8080/"
        },
        "id": "VddMzeljfL93",
        "outputId": "595bd879-f7e4-4bab-d7b0-45d815b15967"
      },
      "execution_count": 57,
      "outputs": [
        {
          "output_type": "stream",
          "name": "stdout",
          "text": [
            "10 Pesos is worth US$0.11304544426859599\n"
          ]
        }
      ]
    },
    {
      "cell_type": "code",
      "source": [
        "f\"{amount} {currency} is worth US${amount/rate:.2f}\""
      ],
      "metadata": {
        "colab": {
          "base_uri": "https://localhost:8080/",
          "height": 35
        },
        "id": "cwCsitcGvym4",
        "outputId": "66989789-4230-44eb-9f3b-e318029c3eb4"
      },
      "execution_count": 58,
      "outputs": [
        {
          "output_type": "execute_result",
          "data": {
            "text/plain": [
              "'10 Pesos is worth US$0.11'"
            ],
            "application/vnd.google.colaboratory.intrinsic+json": {
              "type": "string"
            }
          },
          "metadata": {},
          "execution_count": 58
        }
      ]
    }
  ]
}